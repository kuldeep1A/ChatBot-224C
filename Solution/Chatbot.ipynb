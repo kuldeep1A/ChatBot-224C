{
 "cells": [
  {
   "cell_type": "code",
   "execution_count": null,
   "metadata": {},
   "outputs": [],
   "source": [
    "%pip install openai # if in windows vscode\n",
    "# !pip install openai # if in google colab\n"
   ]
  },
  {
   "cell_type": "code",
   "execution_count": 2,
   "metadata": {},
   "outputs": [],
   "source": [
    "from openai import OpenAI\n",
    "\n",
    "# Set your OpenAI API key\n",
    "\n",
    "OPEN_AI_API_KEY = 'sk-Your-api-key' # Upgrade Rate Limit\n",
    "\n",
    "# Create an OpenAI client\n",
    "client = OpenAI(api_key=OPEN_AI_API_KEY)"
   ]
  },
  {
   "cell_type": "code",
   "execution_count": 8,
   "metadata": {},
   "outputs": [
    {
     "data": {
      "text/plain": [
       "{'answer': 'The fee structure for the \"Certification in Fire & Safety Management\" course is as follows:\\n- For Students of Nepal, Bhutan, Srilanka, Maldives, Myanmar: NPR 22,500 (Yearly)\\n- For Foreign Students: USD 900\\n- Tuition Fees Every Year: NPR 42,500',\n",
       " 'query': \"What is the fee structure for 'Certification in Fire & Safety Management'?\"}"
      ]
     },
     "execution_count": 8,
     "metadata": {},
     "output_type": "execute_result"
    }
   ],
   "source": [
    "def fee_chatbot(query, prior_answers = None):\n",
    "    # YOUR CODE HERE\n",
    "    \n",
    "    # Read the data file \n",
    "    data = open('fee.csv', 'r').read()\n",
    "    \n",
    "    # Put the data and run the query\n",
    "    response = client.chat.completions.create(\n",
    "      model=\"gpt-3.5-turbo\",\n",
    "      messages=[\n",
    "        {\"role\": \"assistant\", \"content\": data},\n",
    "        {\"role\": \"user\", \"content\": query}\n",
    "      ]\n",
    "    )\n",
    "\n",
    "    # get back the result from the response\n",
    "    result = response.choices[0].message.content\n",
    "\n",
    "    # raise NotImplementedError()\n",
    "    return {'answer': result, 'query': query} # Return the answer and query\n",
    "\n",
    "fee_chatbot(\"What is the fee structure for 'Certification in Fire & Safety Management'?\")"
   ]
  },
  {
   "cell_type": "code",
   "execution_count": 7,
   "metadata": {},
   "outputs": [
    {
     "name": "stdout",
     "output_type": "stream",
     "text": [
      "lines:  0\n",
      "lines:  200\n",
      "lines:  400\n",
      "lines:  600\n",
      "lines:  800\n",
      "lines:  1000\n",
      "lines:  1200\n",
      "lines:  1400\n",
      "lines:  1600\n",
      "{'answer': \"Yes, there are entries in the database where the father's mobile number is not provided.\", 'query': \"Are there any entries without a father's mobile number?\"}\n"
     ]
    },
    {
     "data": {
      "text/plain": [
       "{'answer': \"Yes, there are entries in the database where the father's mobile number is not provided.\",\n",
       " 'query': \"Are there any entries without a father's mobile number?\"}"
      ]
     },
     "execution_count": 7,
     "metadata": {},
     "output_type": "execute_result"
    }
   ],
   "source": [
    "# Helper function for generating final answer from several part answers\n",
    "def finalResult(_x, query):\n",
    "    input_text = \"\\n\".join(_x)\n",
    "    response = client.chat.completions.create(\n",
    "        model=\"gpt-3.5-turbo\",\n",
    "        messages=[\n",
    "          {\"role\": \"system\", \"content\": input_text},\n",
    "          {\"role\": \"user\", \"content\": query}\n",
    "        ]\n",
    "      )\n",
    "\n",
    "    return response.choices[0].message.content # Returning the final answer of student chatbot\n",
    "\n",
    "\n",
    "\n",
    "def student_chatbot(query, prior_answers = None, is_accurate=True):\n",
    "    # YOUR CODE HERE\n",
    "    \n",
    "    # Reading the data of students dataset\n",
    "    data = open(\"student.csv\", 'r').read().split('\\n')\n",
    "    all_outputs = [] #Holding the several part answers\n",
    "\n",
    "    # Starting and Ending position of the chunk\n",
    "    start_ptr = 0\n",
    "    end_ptr = 200\n",
    "    \n",
    "    # Loop through each chunk of size 200\n",
    "    while (end_ptr <= len(data) and start_ptr <= len(data)):\n",
    "      print('lines: ', start_ptr)\n",
    "      chunk = []\n",
    "      if (start_ptr == 0):\n",
    "          chunk = data[start_ptr:end_ptr]\n",
    "      else:\n",
    "          chunk = [data[0]] + data[start_ptr:end_ptr]\n",
    "\n",
    "      chunk_str = \"\\n\".join(chunk)\n",
    "      response = client.chat.completions.create(\n",
    "          model=\"gpt-3.5-turbo\",\n",
    "          messages=[\n",
    "            {\"role\": \"system\", \"content\": chunk_str},\n",
    "            {\"role\": \"user\", \"content\": query},\n",
    "          ]\n",
    "      )\n",
    "\n",
    "      start_ptr += 200\n",
    "      end_ptr = min(len(data), end_ptr+200)\n",
    "\n",
    "      result = response.choices[0].message.content\n",
    "      all_outputs.append(result)\n",
    "      if (not is_accurate):\n",
    "          break\n",
    "\n",
    "      generated_text = finalResult(all_outputs, query)\n",
    "      # generated_text = result\n",
    "    return {'answer': generated_text, 'query': query}\n",
    "student_chatbot(\"Are there any entries without a father's mobile number?\")"
   ]
  },
  {
   "cell_type": "code",
   "execution_count": null,
   "metadata": {},
   "outputs": [],
   "source": [
    "visible_sample_questions_fees = [{\"query\": \"What is the duration of the 'B.Sc (Physics, Chemistry, Mathematics, Computer Science, Botany, Zoology)' program?\", \n",
    "     \"answer\": \"The duration of the 'B.Sc (Physics, Chemistry, Mathematics, Computer Science, Botany, Zoology)' program is 3 years.\"},\n",
    "    {\"query\": \"What are the eligibility criteria for 'PG Diploma in Industrial Safety & Management'?\",\n",
    "     \"answer\": \"The eligibility criteria for 'PG Diploma in Industrial Safety & Management' include having completed Graduation in any stream.\"},\n",
    "    {\"query\": \"Which program offers 'International Visit Excluded' as part of its benefits?\",\n",
    "     \"answer\": \"The 'BBA (Global Business Management)' program offers 'International Visit Excluded' as part of its benefits.\"},\n",
    "    {\"query\": \"What is the fee structure for 'B.Com'?\",\n",
    "     \"answer\": \"The fee structure for 'B.Com' is 40000 per year.\"},\n",
    "    {\"query\": \"What is the duration of 'M.A.  in Yogic Science'?\",\n",
    "     \"answer\": \"The duration of 'M.A.  in Yogic Science' is 2 years.\"},\n",
    "    {\"query\": \"What are the prerequisites for 'Diploma in Hotel Management'?\",\n",
    "     \"answer\": \"The prerequisites for 'Diploma in Hotel Management' include having completed 10+2 from any stream.\"},\n",
    "    {\"query\": \"What is the fee structure for 'MBA(Hospital Administration)'?\",\n",
    "     \"answer\": \"The fee structure for ‘'MBA(Hospital Administration) is 42500 per year.\"},\n",
    "    {\"query\": \"What is the eligibility criterion for 'M.Sc (Botany, Zoology)'?\",\n",
    "     \"answer\": \"The eligibility criterion for 'M.Sc (Botany, Zoology)' is having completed B.Sc in Life Science or BCZ.\"},\n",
    "    {\"query\": \"How long is the 'B.Sc. Design' program?\",\n",
    "     \"answer\": \"The 'B.Sc. Design' program is 4 years long.\"},\n",
    "    {\"query\": \"What is the duration of 'B.Ed'?\",\n",
    "     \"answer\": \"It takes 3 years to complete 'B.Ed'.\"},\n",
    "    {\"query\": \"What are the eligibility criteria for 'Diploma in Journalism & Mass Communication'?\",\n",
    "     \"answer\": \"The eligibility criteria for 'Diploma in Journalism & Mass Communication' include having completed 10+2 from any stream.\"},\n",
    "    {\"query\": \"Which program offers 'Free Accommodation' as part of its benefits?\",\n",
    "     \"answer\": \"The 'Executive Diploma in Cruise Development' program offers 'Free Accommodation' as part of its benefits.\"},\n",
    "    {\"query\": \"What is the fee structure for 'B.A. B.Ed'?\",\n",
    "     \"answer\": \"The fee structure for 'B.A. B.Ed' is 40000 per year.\"},\n",
    "    {\"query\": \"What is the duration of 'B.Tech (Dairy Technology)'?\",\n",
    "     \"answer\": \"The duration of 'B.Tech (Dairy Technology)' is 4 years.\"},\n",
    "    {\"query\": \"What is the eligibility criterion for 'M.Sc (Organic Chemistry)'?\",\n",
    "     \"answer\": \"The eligibility criterion for 'M.Sc (Organic Chemistry)' is having completed B.Sc in Chemistry.\"},\n",
    "    {\"query\": \"How long does it take to complete 'PG Diploma in Health, Safety & Environment'?\",\n",
    "     \"answer\": \"It takes 1 year to complete 'PG Diploma in Health, Safety & Environment'.\"},\n",
    "    {\"query\": \"What is the fee structure for 'Certification in Fire & Safety Management'?\",\n",
    "     \"answer\": \"The fee structure for 'Certification in Fire & Safety Management' is 22,500 INR yearly.\"},\n",
    "    {\"query\": \"What is the duration of 'B.PEd'?\",\n",
    "     \"answer\": \"The duration of 'B.PEd' is 2 years.\"},\n",
    "    {\"query\": \"Can I do it if I have a B.Sc degree?\" , \"answer\":\"Yes\", \"prior_answers\": [{\"query\": \"What are the prerequisites for 'M.Design'?\",\n",
    "     \"answer\": \"The prerequisites for 'M.Design' include having completed Graduation in any stream.\"}]},\n",
    "    {\"query\": \"What is the fee structure for 'PG Diploma in Fine Arts in (Painting, Sculpture and Graphics)'?\",\n",
    "     \"answer\": \"The fee structure for 'PG Diploma in Fine Arts in (Painting, Sculpture and Graphics)' is 22,500 INR yearly.\"}\n",
    "]"
   ]
  },
  {
   "cell_type": "code",
   "execution_count": null,
   "metadata": {},
   "outputs": [],
   "source": [
    "visible_sample_questions_students = [\n",
    "    {\"query\": \"What is the total number of entries in the CSV file?\", \"answer\": \"The total number of entries is 125.\"},\n",
    "    {\"query\": \"How many different courses are listed in the file?\", \"answer\": \"There are 2 different courses listed in the file.\"},\n",
    "    {\"query\": \"What is the email address of the person with SR. NO. 1356?\", \"answer\": \"The email address is RUKMANGADRI@GMAIL.COM.\"},\n",
    "    {\"query\": \"Which individual has the earliest date of birth?\", \"answer\": \"The individual with the earliest date of birth is ANIL BISHNOI.\"},\n",
    "    {\"query\": \"How many individuals have provided alternate email addresses?\", \"answer\": \"There are 20 individuals who have provided alternate email addresses.\"},\n",
    "    {\"query\": \"Are there any entries without a father's mobile number?\", \"answer\": \"No, all entries have father's mobile numbers.\"}\n",
    "]"
   ]
  },
  {
   "cell_type": "code",
   "execution_count": null,
   "metadata": {},
   "outputs": [],
   "source": [
    "invisible_sample_questions_fees = []\n",
    "invisible_sample_questions_students = []\n",
    "\n",
    "\n",
    "from nltk.translate.bleu_score import sentence_bleu\n",
    "import nltk\n",
    "\n",
    "\n",
    "def compute_bleu_score(chatbot_answers, reference_answers):\n",
    "    bleu_scores = []\n",
    "    #print(f\"Chatbot answers {chatbot_answers}\" )\n",
    "    #print(f\"reference answers {reference_answers}\" )\n",
    "    for chatbot_answer, reference_answer in zip(chatbot_answers, reference_answers):\n",
    "        chatbot_response = chatbot_answer['answer']\n",
    "        reference_response = reference_answer\n",
    "        \n",
    "        # Tokenize responses\n",
    "        chatbot_tokens = nltk.word_tokenize(chatbot_response.lower())\n",
    "        reference_tokens = nltk.word_tokenize(reference_response.lower())\n",
    "        \n",
    "        # Compute BLEU score\n",
    "        bleu = sentence_bleu([reference_tokens], chatbot_tokens)\n",
    "        bleu_scores.append(bleu)\n",
    "        \n",
    "    # Compute average BLEU score\n",
    "    avg_bleu_score = sum(bleu_scores) / len(bleu_scores)\n",
    "    return avg_bleu_score\n",
    "\n",
    "\n",
    "fee_chatbot_invisible_bleu_score = compute_bleu_score([fee_chatbot(x['query'], x.get('prior_keys', None)) for x in invisible_sample_questions_fees], [x['answer'] for x in invisible_sample_questions_fees])\n",
    "\n",
    "students_chatbot_invisible_bleu_score = compute_bleu_score([student_chatbot(x['query'], x.get('prior_keys', None)) for x in invisible_sample_questions_students], [x['answer'] for x in invisible_sample_questions_students])\n",
    "\n",
    "assert(students_chatbot_invisible_bleu_score > .9 and students_chatbot_invisible_bleu_score < 1)\n",
    "assert(students_chatbot_invisible_bleu_score > .8  and students_chatbot_invisible_bleu_score < .8999999999)\n",
    "assert(students_chatbot_invisible_bleu_score > .6 and students_chatbot_invisible_bleu_score < .7999999999)\n",
    "assert(students_chatbot_invisible_bleu_score > .4 and students_chatbot_invisible_bleu_score < .5999999999)\n",
    "assert(students_chatbot_invisible_bleu_score > .2 and students_chatbot_invisible_bleu_score < .3999999999)\n",
    "assert(students_chatbot_invisible_bleu_score > .1 and students_chatbot_invisible_bleu_score < .1999999999)\n",
    "assert(students_chatbot_invisible_bleu_score > .05 and students_chatbot_invisible_bleu_score < .0999999999)\n",
    "assert(students_chatbot_invisible_bleu_score < .0499999999)\n",
    "assert(fee_chatbot_invisible_bleu_score > .9 and fee_chatbot_invisible_bleu_score < 1)\n",
    "assert(fee_chatbot_invisible_bleu_score > .8  and fee_chatbot_invisible_bleu_score < .8999999999)\n",
    "assert(fee_chatbot_invisible_bleu_score > .6 and fee_chatbot_invisible_bleu_score < .7999999999)\n",
    "assert(fee_chatbot_invisible_bleu_score > .4 and fee_chatbot_invisible_bleu_score < .5999999999)\n",
    "assert(fee_chatbot_invisible_bleu_score > .2 and fee_chatbot_invisible_bleu_score < .3999999999)\n",
    "assert(fee_chatbot_invisible_bleu_score > .1 and fee_chatbot_invisible_bleu_score < .1999999999)\n",
    "assert(fee_chatbot_invisible_bleu_score > .05 and fee_chatbot_invisible_bleu_score < .0999999999)\n",
    "assert(fee_chatbot_invisible_bleu_score < .04999999 )\n"
   ]
  }
 ],
 "metadata": {
  "kernelspec": {
   "display_name": "Python 3",
   "language": "python",
   "name": "python3"
  },
  "language_info": {
   "codemirror_mode": {
    "name": "ipython",
    "version": 3
   },
   "file_extension": ".py",
   "mimetype": "text/x-python",
   "name": "python",
   "nbconvert_exporter": "python",
   "pygments_lexer": "ipython3",
   "version": "3.11.5"
  }
 },
 "nbformat": 4,
 "nbformat_minor": 2
}
